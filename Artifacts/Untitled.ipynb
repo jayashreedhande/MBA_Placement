{
 "cells": [
  {
   "cell_type": "code",
   "execution_count": 1,
   "id": "fe0bc762",
   "metadata": {},
   "outputs": [],
   "source": [
    "import numpy as np\n",
    "import pandas as pd\n",
    "\n",
    "import config2\n"
   ]
  },
  {
   "cell_type": "code",
   "execution_count": 3,
   "id": "69347065",
   "metadata": {},
   "outputs": [
    {
     "ename": "NameError",
     "evalue": "name 'config2' is not defined",
     "output_type": "error",
     "traceback": [
      "\u001b[1;31m---------------------------------------------------------------------------\u001b[0m",
      "\u001b[1;31mNameError\u001b[0m                                 Traceback (most recent call last)",
      "Input \u001b[1;32mIn [3]\u001b[0m, in \u001b[0;36m<cell line: 1>\u001b[1;34m()\u001b[0m\n\u001b[1;32m----> 1\u001b[0m \u001b[38;5;28mdir\u001b[39m(\u001b[43mconfig2\u001b[49m)\n",
      "\u001b[1;31mNameError\u001b[0m: name 'config2' is not defined"
     ]
    }
   ],
   "source": [
    "dir(config2)"
   ]
  },
  {
   "cell_type": "code",
   "execution_count": null,
   "id": "c1c10a57",
   "metadata": {},
   "outputs": [],
   "source": []
  }
 ],
 "metadata": {
  "kernelspec": {
   "display_name": "Python 3 (ipykernel)",
   "language": "python",
   "name": "python3"
  },
  "language_info": {
   "codemirror_mode": {
    "name": "ipython",
    "version": 3
   },
   "file_extension": ".py",
   "mimetype": "text/x-python",
   "name": "python",
   "nbconvert_exporter": "python",
   "pygments_lexer": "ipython3",
   "version": "3.10.5"
  }
 },
 "nbformat": 4,
 "nbformat_minor": 5
}
